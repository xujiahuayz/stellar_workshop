{
 "cells": [
  {
   "cell_type": "markdown",
   "metadata": {},
   "source": [
    "# Stellar UCL Workshop\n",
    "26 November, 2021\n",
    "\n",
    "Goal: Issuing an asset on Stellar (called \"XU\") to tokenize your professor's office hours.\n",
    "\n",
    "Section 1: Configure the SDK\n",
    "\n",
    "Section 2: Assets & Payments\n",
    "- Set up a wallet, and receive funds from the faucet.\n",
    "- Issuing an asset on Stellar.\n",
    "- Receiving and paying XU asset with a memo, to book a time-slot.\n",
    "  \n",
    "Section 3: The DEX\n",
    "- Exchanging and converting assets.\n",
    "\n",
    "You'll need:\n",
    "\n",
    "- Python3 SDK with dependencies installed via:\n",
    "  ```\n",
    "  pip install requests\n",
    "  pip install stellar_sdk\n",
    "  ```\n",
    "- IDE (Visual Studio Code, or other)\n",
    "- Code we’ll be going through: [https://bit.ly/stellar-ucl](https://bit.ly/stellar-ucl)\n",
    "- Tools\n",
    "  - [https://stellar.expert](https://stellar.expert)\n",
    "  - [https://laboratory.stellar.org](https://laboratory.stellar.org)\n",
    "  - [https://horizon-testnet.stellar.org](https://horizon-testnet.stellar.org)\n",
    "\n",
    "\n"
   ]
  },
  {
   "cell_type": "markdown",
   "metadata": {},
   "source": [
    "# 1. Configure the SDK\n",
    "\n",
    "Configure stellar_sdk to talk to the horizon instance hosted by Stellar.org.\n",
    "For production applications, you should run your own instance of Horizon, but for testing & development using the SDF url is fine.\n",
    "\n",
    "Stellar has two official networks, the live public network, and the testnet for testing & development. For this demo we'll be using the testnet."
   ]
  },
  {
   "cell_type": "code",
   "execution_count": 1,
   "metadata": {},
   "outputs": [],
   "source": [
    "import requests\n",
    "import stellar_sdk\n",
    "\n",
    "# Configure StellarSdk to talk to the horizon instance hosted by Stellar.org\n",
    "# To use the live network, set the hostname to 'horizon.stellar.org'\n",
    "horizon_url = \"https://horizon-testnet.stellar.org\"\n",
    "horizon = stellar_sdk.Server(horizon_url=horizon_url)"
   ]
  },
  {
   "cell_type": "markdown",
   "metadata": {},
   "source": [
    "The Stellar network's native asset is the \"lumen\", or \"XLM\". It is used to pay network fees. When it is used, it is destroyed."
   ]
  },
  {
   "cell_type": "code",
   "execution_count": 2,
   "metadata": {},
   "outputs": [],
   "source": [
    "xlm = stellar_sdk.Asset.native()"
   ]
  },
  {
   "cell_type": "markdown",
   "metadata": {},
   "source": [
    "Base fee of network operations (in stroops).\n",
    "\n",
    "`100 stroops = 0.0000100 XLM = ~USD$0.0000035`\n",
    "\n",
    "Note: Higher fees might be required when the network is under heavy usage."
   ]
  },
  {
   "cell_type": "code",
   "execution_count": 3,
   "metadata": {},
   "outputs": [],
   "source": [
    "base_fee = 100"
   ]
  },
  {
   "cell_type": "markdown",
   "metadata": {},
   "source": [
    "# 2. Assets & Payments"
   ]
  },
  {
   "cell_type": "markdown",
   "metadata": {},
   "source": [
    "## 2.1. Create the Accounts\n",
    "\n",
    "For this demo we'll need two accounts. A \"professor\", and a \"student\".\n",
    "\n",
    "The professor will:\n",
    "- Issues the Xu asset to the student.\n",
    "- Provides liquidity to buy/sell Xu.\n",
    "\n",
    "The student will:\n",
    "- Receive/Buy Xu.\n",
    "- Uses it to pay for a timeslot.\n",
    "\n",
    "Stellar is account-based, not UTXO-based. There is an on-chain representation of each account and it's balances.\n",
    "\n",
    "Accounts must maintain a minimum reserve balance of lumens (XLM).\n",
    "\n",
    "Accounts are created/funded on-chain by existing accounts.\n",
    "\n",
    "On testnet we use a faucet called “friendbot”, to create the accounts. Friendbot will give each account 10,000 XLM.\n",
    "\n",
    "(This `create_account` function is taken from the python SDK docs)\n"
   ]
  },
  {
   "cell_type": "code",
   "execution_count": 4,
   "metadata": {},
   "outputs": [
    {
     "name": "stdout",
     "output_type": "stream",
     "text": [
      "Professor Public Key: GDNQVUUGK2MZBZ7SKFPYWC2WSRALGT2A2ND6DQUHH66WS6LDCUR2AH5I\n",
      "Professor Secret Seed: SCFJGTAIID65P32QKEKZGXSSAI6ZXM4ROAWIJZK33VLGA4IUACZ6JEYY\n",
      "Professor URL: https://horizon-testnet.stellar.org/accounts/GDNQVUUGK2MZBZ7SKFPYWC2WSRALGT2A2ND6DQUHH66WS6LDCUR2AH5I\n",
      "Student Public Key: GB3O4WKQTMRUF7KTNXEUSBLF2GID3QVI4SHPN5NLWGP5PH7LUVZQWON6\n",
      "Student Secret Seed: SAZGG26Y7I4UA3WVPML2VG7LLIUZWMHT22MN3DB5CBWRPQSF6T7U4WWC\n",
      "Student URL: https://horizon-testnet.stellar.org/accounts/GB3O4WKQTMRUF7KTNXEUSBLF2GID3QVI4SHPN5NLWGP5PH7LUVZQWON6\n"
     ]
    }
   ],
   "source": [
    "def create_account(name):\n",
    "  \"\"\"Create an account on the testnet.\"\"\"\n",
    "  key_pair = stellar_sdk.Keypair.random()\n",
    "  url = \"https://friendbot.stellar.org\"\n",
    "  _response = requests.get(url, params={\"addr\": key_pair.public_key})\n",
    "  # Check _response.json() in case something goes wrong\n",
    "  print(f\"{name} Public Key: {key_pair.public_key}\")\n",
    "  print(f\"{name} Secret Seed: {key_pair.secret}\")\n",
    "  print(f\"{name} URL: {horizon_url}/accounts/{key_pair.public_key}\")\n",
    "  return key_pair\n",
    "\n",
    "professor_keys = create_account(\"Professor\")\n",
    "student_keys = create_account(\"Student\")"
   ]
  },
  {
   "cell_type": "markdown",
   "metadata": {},
   "source": [
    "Transactions require a valid sequence number that is specific to the sender's account.\n",
    "We can fetch the current sequence number for the source account from Horizon."
   ]
  },
  {
   "cell_type": "code",
   "execution_count": null,
   "metadata": {},
   "outputs": [],
   "source": [
    "professor_account = horizon.load_account(professor_keys.public_key)\n",
    "student_account = horizon.load_account(student_keys.public_key)"
   ]
  },
  {
   "cell_type": "markdown",
   "metadata": {},
   "source": [
    "\n",
    "## 2.2. Defining Our Asset\n",
    "\n",
    "Assets are identified by: `Code:Issuer`."
   ]
  },
  {
   "cell_type": "code",
   "execution_count": null,
   "metadata": {},
   "outputs": [],
   "source": [
    "# Define our asset identifier\n",
    "xu = stellar_sdk.Asset(\"XU\", professor_keys.public_key)\n",
    "print(f\"XU Asset: {xu.code}:{xu.issuer}\")\n"
   ]
  },
  {
   "cell_type": "markdown",
   "metadata": {},
   "source": [
    "## 2.3. Student Establishes a Trustline for the Asset\n",
    "\n",
    "Anyone can issue an asset on stellar.\n",
    "\n",
    "You want to make sure you’re using the “right” one.\n",
    "\n",
    "A trustline is an explicit opt-in to hold a particular token, so it specifies both asset code and issuer.\n",
    "\n",
    "Limits your account to the subset of all assets that you trust.\n",
    "\n",
    "\n",
    "\n",
    "Student will establish a trustline to the XU asset issued by the issuer."
   ]
  },
  {
   "cell_type": "code",
   "execution_count": null,
   "metadata": {},
   "outputs": [],
   "source": [
    "transaction = (\n",
    "    stellar_sdk.TransactionBuilder(\n",
    "        source_account=student_account,\n",
    "        network_passphrase=stellar_sdk.Network.TESTNET_NETWORK_PASSPHRASE,\n",
    "        base_fee=base_fee,\n",
    "    )\n",
    "    # we need a trust line for the xu asset\n",
    "    .append_change_trust_op(asset=xu)\n",
    "    .set_timeout(30)  # Make this transaction valid for the next 30 seconds only\n",
    "    .build()\n",
    ")\n",
    "\n",
    "# sign & submit the transaction\n",
    "transaction.sign(student_keys)\n",
    "response = horizon.submit_transaction(transaction)\n",
    "print(f\"{horizon_url}/transactions/{response['id']}\")"
   ]
  },
  {
   "cell_type": "markdown",
   "metadata": {},
   "source": [
    "## 2.4. Professor Issues Some XU to the Student\n",
    "\n",
    "Assets are created when the issuer makes a payment.\n",
    "\n",
    "The professor pays the student 30 XU, creating the asset.\n"
   ]
  },
  {
   "cell_type": "code",
   "execution_count": null,
   "metadata": {},
   "outputs": [],
   "source": [
    "transaction = (\n",
    "    stellar_sdk.TransactionBuilder(\n",
    "        source_account=professor_account,\n",
    "        network_passphrase=stellar_sdk.Network.TESTNET_NETWORK_PASSPHRASE,\n",
    "        base_fee=base_fee,\n",
    "    )\n",
    "    # issue 30 xu to the student\n",
    "    .append_payment_op(\n",
    "        destination=student_keys.public_key,\n",
    "        asset=xu,\n",
    "        amount=\"30.0000000\",\n",
    "    )\n",
    "    .set_timeout(30)  # Make this transaction valid for the next 30 seconds only\n",
    "    .build()\n",
    ")\n",
    "\n",
    "# sign & submit the transaction\n",
    "transaction.sign(professor_keys)\n",
    "response = horizon.submit_transaction(transaction)\n",
    "print(f\"{horizon_url}/transactions/{response['id']}\")"
   ]
  },
  {
   "cell_type": "markdown",
   "metadata": {},
   "source": [
    "## 2.5. Student Spends XU to Book a Timeslot\n",
    "\n",
    "To book a timeslot, the student will pay some XU to the professor.\n",
    "\n",
    "Each transaction can have a memo attached, to help applications differentiate, and transfer extra data."
   ]
  },
  {
   "cell_type": "code",
   "execution_count": null,
   "metadata": {},
   "outputs": [],
   "source": [
    "transaction = (\n",
    "    stellar_sdk.TransactionBuilder(\n",
    "        source_account=student_account,\n",
    "        network_passphrase=stellar_sdk.Network.TESTNET_NETWORK_PASSPHRASE,\n",
    "        base_fee=base_fee,\n",
    "    )\n",
    "    # spend 30 xu to book a 30-minute slot\n",
    "    .append_payment_op(\n",
    "        destination=professor_keys.public_key,\n",
    "        asset=xu,\n",
    "        amount=\"30.0000000\",\n",
    "    )\n",
    "    .add_text_memo(\"2021-11-26T12:00Z\")\n",
    "    .set_timeout(30)  # Make this transaction valid for the next 30 seconds only\n",
    "    .build()\n",
    ")\n",
    "\n",
    "# sign & submit the transaction\n",
    "transaction.sign(student_keys)\n",
    "response = horizon.submit_transaction(transaction)\n",
    "print(f\"{horizon_url}/transactions/{response['id']}\")"
   ]
  },
  {
   "cell_type": "markdown",
   "metadata": {},
   "source": [
    "# 3. The DEX\n",
    "\n",
    "Stellar has a DEX (decentralised exchange) built into the protocol, for doing currency conversion and exchange.\n",
    "\n",
    "Professor Xu is business-savvy, and decides that if students want more office hours, they should pay for them.\n",
    "\n",
    "The professor decides to sell their office hours on the DEX."
   ]
  },
  {
   "cell_type": "markdown",
   "metadata": {},
   "source": [
    "## 3.1. Professor Adds Liquidity to the DEX\n",
    "\n",
    "Market Makers provide liquidity in the DEX (via Orderbook & Liquidity Pools). For this workshop, the professor will be a market-maker, placing sell offers into the orderbook.\n",
    "\n",
    "Traders use the liquidity in the DEX to atomically convert assets via “Path Payments”.\n",
    "\n"
   ]
  },
  {
   "cell_type": "code",
   "execution_count": null,
   "metadata": {},
   "outputs": [],
   "source": [
    "# build the transaction\n",
    "transaction = (\n",
    "    stellar_sdk.TransactionBuilder(\n",
    "        source_account=professor_account,\n",
    "        network_passphrase=stellar_sdk.Network.TESTNET_NETWORK_PASSPHRASE,\n",
    "        base_fee=base_fee,\n",
    "    )\n",
    "    # Add a \"manage sell offer\" operation to the transaction\n",
    "    .append_manage_sell_offer_op(\n",
    "        selling=xu,\n",
    "        buying=xlm,\n",
    "        amount=\"1000.0000000\",\n",
    "        price=stellar_sdk.Price(1, 1),\n",
    "    )\n",
    "    .set_timeout(30)  # Make this transaction valid for the next 30 seconds only\n",
    "    .build()\n",
    ")\n",
    "\n",
    "# sign & submit the transaction\n",
    "transaction.sign(professor_keys)\n",
    "response = horizon.submit_transaction(transaction)\n",
    "print(f\"{horizon_url}/transactions/{response['id']}\")"
   ]
  },
  {
   "cell_type": "markdown",
   "metadata": {},
   "source": [
    "## 3.2. Student Buys XU from the DEX\n",
    "\n",
    "Path payments are the interface to the DEX, and how assets are converted.\n",
    "\n",
    "When converting `X -> Y`, you can either specify the amount of `X` you are sending, or the amount of `Y` you'd like the destination to receive.\n",
    "\n",
    "Note: The destination can be your own (or any other) account!"
   ]
  },
  {
   "cell_type": "code",
   "execution_count": null,
   "metadata": {},
   "outputs": [],
   "source": [
    "transaction = (\n",
    "    stellar_sdk.TransactionBuilder(\n",
    "        source_account=student_account,\n",
    "        network_passphrase=stellar_sdk.Network.TESTNET_NETWORK_PASSPHRASE,\n",
    "        base_fee=base_fee,\n",
    "    )\n",
    "    # Buy 30 xu token\n",
    "    .append_path_payment_strict_receive_op(\n",
    "        destination=student_keys.public_key,\n",
    "        send_asset=xlm, send_max=\"30.0000000\",\n",
    "        dest_asset=xu, dest_amount=\"30.0000000\",\n",
    "        path=[xlm, xu]\n",
    "    )\n",
    "    .set_timeout(30)  # Make this transaction valid for the next 30 seconds only\n",
    "    .build()\n",
    ")\n",
    "\n",
    "# sign & submit the transaction\n",
    "transaction.sign(student_keys)\n",
    "response = horizon.submit_transaction(transaction)\n",
    "print(f\"{horizon_url}/transactions/{response['id']}\")"
   ]
  }
 ],
 "metadata": {
  "interpreter": {
   "hash": "15d722ca92abc3a6c4a2e403080e38fb1d87b671346b91009dce9a2020404583"
  },
  "kernelspec": {
   "display_name": "Python 3.10.0 64-bit ('3.10.0': pyenv)",
   "name": "python3"
  },
  "language_info": {
   "codemirror_mode": {
    "name": "ipython",
    "version": 3
   },
   "file_extension": ".py",
   "mimetype": "text/x-python",
   "name": "python",
   "nbconvert_exporter": "python",
   "pygments_lexer": "ipython3",
   "version": "3.9.7"
  },
  "orig_nbformat": 4
 },
 "nbformat": 4,
 "nbformat_minor": 2
}
